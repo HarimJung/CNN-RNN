{
 "cells": [
  {
   "cell_type": "markdown",
   "metadata": {},
   "source": [
    "# CNN, 영상에 최적화. 필터링 개념, 지도학습!\n",
    "인접한것들의 공통점, 등등 멀리 있는 픽셀들과의 가까이 붙어서 비교.\n",
    "맥스풀링, 컨볼루션"
   ]
  },
  {
   "cell_type": "code",
   "execution_count": 1,
   "metadata": {},
   "outputs": [],
   "source": [
    "import tensorflow as  tf\n",
    "import numpy as np\n",
    "import pandas as pd"
   ]
  },
  {
   "cell_type": "code",
   "execution_count": 4,
   "metadata": {},
   "outputs": [],
   "source": [
    "a=[[1,5,4,3],\n",
    "   [8,4,1,4],\n",
    "   [1,2,3,3],\n",
    "   [6,5,3,1]\n",
    "    \n",
    "]\n",
    "\n",
    "b=[ [1,1,1,1],\n",
    "   [-1,-1,-1,-1],\n",
    "   [2,2,2,2],\n",
    "   [3,3,3,3]\n",
    "    \n",
    "]"
   ]
  },
  {
   "cell_type": "code",
   "execution_count": 16,
   "metadata": {},
   "outputs": [],
   "source": [
    "X= tf.constant(a)\n",
    "Y= tf.constant(b)"
   ]
  },
  {
   "cell_type": "code",
   "execution_count": 19,
   "metadata": {},
   "outputs": [
    {
     "data": {
      "text/plain": [
       "59"
      ]
     },
     "execution_count": 19,
     "metadata": {},
     "output_type": "execute_result"
    }
   ],
   "source": [
    "sess=tf.Session()\n",
    "Z=sess.run(tf.reduce_sum(np.dot(X,Y)))\n",
    "Z"
   ]
  },
  {
   "cell_type": "code",
   "execution_count": 26,
   "metadata": {},
   "outputs": [
    {
     "data": {
      "text/plain": [
       "59"
      ]
     },
     "execution_count": 26,
     "metadata": {},
     "output_type": "execute_result"
    }
   ],
   "source": [
    "sess=tf.Session()\n",
    "T=sess.run(tf.reduce_sum(tf.multiply(X,Y)))\n",
    "T"
   ]
  },
  {
   "cell_type": "markdown",
   "metadata": {},
   "source": [
    "# Convolution layer"
   ]
  },
  {
   "cell_type": "code",
   "execution_count": 57,
   "metadata": {},
   "outputs": [
    {
     "name": "stdout",
     "output_type": "stream",
     "text": [
      "(2, 3, 3, 1)\n"
     ]
    }
   ],
   "source": [
    "import matplotlib.pyplot as plt\n",
    "\n",
    "sess=tf.Session()\n",
    "image=np.array([[[[1],[2],[3] ],\n",
    "                [[4],[5],[6]],\n",
    "                [[7],[8],[9]]],\n",
    "               [[[1],[2],[3] ],\n",
    "                [[4],[5],[6]],\n",
    "                [[7],[8],[9]]]],dtype=np.float32)\n",
    "\n",
    "print(image.shape)\n"
   ]
  },
  {
   "cell_type": "code",
   "execution_count": 67,
   "metadata": {},
   "outputs": [
    {
     "data": {
      "text/plain": [
       "<matplotlib.image.AxesImage at 0x16c66420128>"
      ]
     },
     "execution_count": 67,
     "metadata": {},
     "output_type": "execute_result"
    },
    {
     "data": {
      "image/png": "[encoded data removed]",
      "text/plain": [
       "<Figure size 432x288 with 1 Axes>"
      ]
     },
     "metadata": {
      "needs_background": "light"
     },
     "output_type": "display_data"
    }
   ],
   "source": [
    "plt.imshow(image.reshape([6,3]),cmap=\"Greys\")"
   ]
  },
  {
   "cell_type": "code",
   "execution_count": 69,
   "metadata": {},
   "outputs": [
    {
     "name": "stdout",
     "output_type": "stream",
     "text": [
      "image.shape (2, 3, 3, 1)\n",
      "[[[[1.]\n",
      "   [2.]\n",
      "   [3.]]\n",
      "\n",
      "  [[4.]\n",
      "   [5.]\n",
      "   [6.]]\n",
      "\n",
      "  [[7.]\n",
      "   [8.]\n",
      "   [9.]]]\n",
      "\n",
      "\n",
      " [[[1.]\n",
      "   [2.]\n",
      "   [3.]]\n",
      "\n",
      "  [[4.]\n",
      "   [5.]\n",
      "   [6.]]\n",
      "\n",
      "  [[7.]\n",
      "   [8.]\n",
      "   [9.]]]]\n",
      "filter image (2, 2, 1, 1)\n"
     ]
    }
   ],
   "source": [
    "sess=tf.InteractiveSession()\n",
    "image=image.reshape([2,3,3,1])\n",
    "print(\"image.shape\", image.shape)\n",
    "print(image)\n",
    "w_filter=tf.constant([[ [[1.]], [[1.]]],\n",
    "                     [[[1.]],[[1.]]]\n",
    "                     ])\n",
    "print(\"filter image\", w_filter.shape)"
   ]
  },
  {
   "cell_type": "code",
   "execution_count": 66,
   "metadata": {},
   "outputs": [
    {
     "name": "stdout",
     "output_type": "stream",
     "text": [
      "conv2d_img.show (2, 2, 2, 1)\n",
      "[[12. 16.]\n",
      " [24. 28.]\n",
      " [12. 16.]\n",
      " [24. 28.]]\n"
     ]
    },
    {
     "data": {
      "image/png": "[encoded data removed]",
      "text/plain": [
       "<Figure size 432x288 with 1 Axes>"
      ]
     },
     "metadata": {
      "needs_background": "light"
     },
     "output_type": "display_data"
    }
   ],
   "source": [
    "conv2d=tf.nn.conv2d(input=image, filter=w_filter, strides=[1,1,1,1],padding= \"VALID\")\n",
    "conv2d_img=conv2d.eval()\n",
    "\n",
    "print(\"conv2d_img.show\", conv2d_img.shape)\n",
    "print(conv2d_img.reshape(4,2))\n",
    "plt.imshow(conv2d_img.reshape(4,2), cmap=\"Greys\")\n",
    "\n",
    "sess.close()"
   ]
  },
  {
   "cell_type": "markdown",
   "metadata": {},
   "source": [
    "# array 의 차원[ 1,1,1,1], strides "
   ]
  },
  {
   "cell_type": "code",
   "execution_count": 75,
   "metadata": {},
   "outputs": [
    {
     "data": {
      "text/plain": [
       "array([[[[1],\n",
       "         [2],\n",
       "         [3]],\n",
       "\n",
       "        [[4],\n",
       "         [5],\n",
       "         [6]],\n",
       "\n",
       "        [[7],\n",
       "         [8],\n",
       "         [9]]]])"
      ]
     },
     "execution_count": 75,
     "metadata": {},
     "output_type": "execute_result"
    }
   ],
   "source": [
    "a=np.array([1,2,3,4,5,6,7,8,9])\n",
    "a.reshape([1,3,3,1])\n",
    "# 어레이 크기와 표현을 잘 해야함.\n",
    "# filter( width,height,color,filter-count 갯수)"
   ]
  },
  {
   "cell_type": "code",
   "execution_count": 86,
   "metadata": {},
   "outputs": [
    {
     "data": {
      "text/plain": [
       "array([[[[ 1],\n",
       "         [ 2],\n",
       "         [ 3],\n",
       "         [ 4],\n",
       "         [ 5],\n",
       "         [ 6],\n",
       "         [ 7]],\n",
       "\n",
       "        [[ 8],\n",
       "         [ 9],\n",
       "         [10],\n",
       "         [11],\n",
       "         [12],\n",
       "         [13],\n",
       "         [14]],\n",
       "\n",
       "        [[15],\n",
       "         [16],\n",
       "         [17],\n",
       "         [18],\n",
       "         [19],\n",
       "         [20],\n",
       "         [21]],\n",
       "\n",
       "        [[22],\n",
       "         [23],\n",
       "         [24],\n",
       "         [25],\n",
       "         [26],\n",
       "         [27],\n",
       "         [28]],\n",
       "\n",
       "        [[29],\n",
       "         [30],\n",
       "         [31],\n",
       "         [32],\n",
       "         [33],\n",
       "         [34],\n",
       "         [35]],\n",
       "\n",
       "        [[36],\n",
       "         [37],\n",
       "         [38],\n",
       "         [39],\n",
       "         [40],\n",
       "         [41],\n",
       "         [42]],\n",
       "\n",
       "        [[43],\n",
       "         [44],\n",
       "         [45],\n",
       "         [46],\n",
       "         [47],\n",
       "         [48],\n",
       "         [49]]]])"
      ]
     },
     "execution_count": 86,
     "metadata": {},
     "output_type": "execute_result"
    }
   ],
   "source": [
    "a=[]\n",
    "for i in range(50):\n",
    "    a.append(i)\n",
    "    result=a\n",
    "a=np.array(a)\n",
    "a=a[1:]\n",
    "a.reshape(1,7,7,1)"
   ]
  },
  {
   "cell_type": "code",
   "execution_count": 103,
   "metadata": {},
   "outputs": [
    {
     "name": "stdout",
     "output_type": "stream",
     "text": [
      "conv2d_img.shape (1, 3, 5, 1)\n",
      "[[ 81.  90.  99. 108. 117.]\n",
      " [207. 216. 225. 234. 243.]\n",
      " [333. 342. 351. 360. 369.]]\n"
     ]
    },
    {
     "data": {
      "image/png": "[encoded data removed]",
      "text/plain": [
       "<Figure size 432x288 with 1 Axes>"
      ]
     },
     "metadata": {
      "needs_background": "light"
     },
     "output_type": "display_data"
    }
   ],
   "source": [
    "image=np.arange(1,50,dtype=np.float32).reshape(1,7,7,1)\n",
    "w_filter=tf.constant(np.ones(9,dtype=np.float32).reshape(3,3,1,1))\n",
    "conv2d=tf.nn.conv2d(input=image,filter=w_filter,strides=[1,2,1,1],padding=\"VALID\")\n",
    "conv2d_img=conv2d.eval()\n",
    "\n",
    "print(\"conv2d_img.shape\", conv2d_img.shape)\n",
    "print(conv2d_img.reshape(3,5))\n",
    "plt.imshow(conv2d_img.reshape(3,5),cmap=\"Greys\")\n",
    "\n",
    "sess.close()"
   ]
  },
  {
   "cell_type": "markdown",
   "metadata": {},
   "source": [
    "# Padding, 덧 씌우는것"
   ]
  },
  {
   "cell_type": "code",
   "execution_count": 104,
   "metadata": {},
   "outputs": [],
   "source": [
    "# padding=\"VALID\" 는 안씌우는것\n",
    "# padding'SAME\" 같은 크기의 액티베이션 맵 만들기\n",
    "# 필터에 비해 인풋이 작을때. 쓴다"
   ]
  },
  {
   "cell_type": "code",
   "execution_count": 116,
   "metadata": {},
   "outputs": [
    {
     "name": "stdout",
     "output_type": "stream",
     "text": [
      "conv2d_img.shape (1, 4, 4, 1)\n",
      "[[ 20.  39.  51.  40.]\n",
      " [ 93. 153. 171. 123.]\n",
      " [177. 279. 297. 207.]\n",
      " [160. 249. 261. 180.]]\n"
     ]
    },
    {
     "data": {
      "image/png": "[encoded data removed]",
      "text/plain": [
       "<Figure size 432x288 with 1 Axes>"
      ]
     },
     "metadata": {
      "needs_background": "light"
     },
     "output_type": "display_data"
    }
   ],
   "source": [
    "image=np.arange(1,50,dtype=np.float32).reshape(1,7,7,1)\n",
    "w_filter=tf.constant(np.ones(9,dtype=np.float32).reshape(3,3,1,1))\n",
    "conv2d=tf.nn.conv2d(input=image,filter=w_filter,strides=[1,2,2,1],padding=\"SAME\")\n",
    "conv2d_img=conv2d.eval()\n",
    "\n",
    "print(\"conv2d_img.shape\", conv2d_img.shape)\n",
    "print(conv2d_img.reshape(4,4))\n",
    "plt.imshow(conv2d_img.reshape(4,4),cmap=\"Greys\")\n",
    "\n",
    "sess.close()\n",
    "\n",
    "#strides, 이미지, 가로,세로,"
   ]
  },
  {
   "cell_type": "markdown",
   "metadata": {},
   "source": [
    "# practice"
   ]
  },
  {
   "cell_type": "code",
   "execution_count": 122,
   "metadata": {},
   "outputs": [],
   "source": [
    "image=np.ones(25)\n",
    "image=image.reshape([1,5,5,1])"
   ]
  },
  {
   "cell_type": "code",
   "execution_count": 123,
   "metadata": {},
   "outputs": [
    {
     "name": "stdout",
     "output_type": "stream",
     "text": [
      "(1, 5, 5, 1)\n"
     ]
    }
   ],
   "source": [
    "print(image.shape)"
   ]
  },
  {
   "cell_type": "code",
   "execution_count": 131,
   "metadata": {},
   "outputs": [
    {
     "data": {
      "text/plain": [
       "array([[[[1.]],\n",
       "\n",
       "        [[1.]],\n",
       "\n",
       "        [[1.]]],\n",
       "\n",
       "\n",
       "       [[[1.]],\n",
       "\n",
       "        [[1.]],\n",
       "\n",
       "        [[1.]]],\n",
       "\n",
       "\n",
       "       [[[1.]],\n",
       "\n",
       "        [[1.]],\n",
       "\n",
       "        [[1.]]]])"
      ]
     },
     "execution_count": 131,
     "metadata": {},
     "output_type": "execute_result"
    }
   ],
   "source": [
    "filter=np.ones(9)\n",
    "filter=filter.reshape(3,3,1,1)\n",
    "filter"
   ]
  },
  {
   "cell_type": "code",
   "execution_count": 141,
   "metadata": {},
   "outputs": [
    {
     "name": "stdout",
     "output_type": "stream",
     "text": [
      "(1, 5, 5, 1)\n"
     ]
    }
   ],
   "source": [
    "sess=tf.InteractiveSession()\n",
    "co_val=tf.nn.conv2d(image,filter,strides=[1,1,1,1],padding=\"VALID\")\n",
    "co_same=tf.nn.conv2d(image,filter,strides=[1,1,1,1],padding=\"SAME\")\n",
    "res1=co_val.eval()\n",
    "res2=co_same.eval()\n",
    "\n",
    "print(res2.shape)\n",
    "\n",
    "sess.close()"
   ]
  },
  {
   "cell_type": "code",
   "execution_count": 180,
   "metadata": {},
   "outputs": [
    {
     "name": "stdout",
     "output_type": "stream",
     "text": [
      "(6, 6, 1, 1) (1, 11, 11, 1)\n"
     ]
    }
   ],
   "source": [
    "a=np.ones(121)\n",
    "a=a.reshape(1,11,11,1)\n",
    "filter=np.ones(36)\n",
    "filter=filter.reshape(6,6,1,1)\n",
    "print(filter.shape, a.shape)"
   ]
  },
  {
   "cell_type": "code",
   "execution_count": 181,
   "metadata": {},
   "outputs": [
    {
     "name": "stdout",
     "output_type": "stream",
     "text": [
      "(1, 6, 6, 1) (1, 11, 11, 1) (1, 6, 6, 1) (1, 4, 4, 1)\n"
     ]
    },
    {
     "data": {
      "text/plain": [
       "<matplotlib.image.AxesImage at 0x16c687ee630>"
      ]
     },
     "execution_count": 181,
     "metadata": {},
     "output_type": "execute_result"
    },
    {
     "data": {
      "image/png": "[encoded data removed]",
      "text/plain": [
       "<Figure size 432x288 with 1 Axes>"
      ]
     },
     "metadata": {
      "needs_background": "light"
     },
     "output_type": "display_data"
    }
   ],
   "source": [
    "sess=tf.InteractiveSession()\n",
    "co_val=tf.nn.conv2d(a,filter,strides=[1,1,1,1],padding=\"VALID\")\n",
    "co_same=tf.nn.conv2d(a,filter,strides=[1,1,1,1],padding=\"SAME\")\n",
    "# 16 by 16 이 되어야 padding=same이 된다.\n",
    "co_same2=tf.nn.conv2d(a,filter,strides=[1,2,2,1],padding=\"SAME\")\n",
    "# padding=same 이고 stride가 2개면 나누기 해서 반올림\n",
    "co_same3=tf.nn.conv2d(a,filter,strides=[1,3,3,1],padding=\"SAME\")\n",
    "\n",
    "res1=co_val.eval()\n",
    "res2=co_same.eval()\n",
    "res3=co_same2.eval()\n",
    "res4=co_same3.eval()\n",
    "\n",
    "print(res1.shape, res2.shape,res3.shape,res4.shape)\n",
    "plt.imshow(res4.reshape(4,4),cmap=\"GnBu\")"
   ]
  },
  {
   "cell_type": "markdown",
   "metadata": {},
   "source": [
    "# Pooling\n",
    "데이터 사이즈를 줄이거나 강조할때 사용, 겹치지 않게 하는게 보통의 원칙이다. 필터와 스트라이드 사이즈 같게"
   ]
  },
  {
   "cell_type": "code",
   "execution_count": 177,
   "metadata": {},
   "outputs": [
    {
     "name": "stdout",
     "output_type": "stream",
     "text": [
      "[[15. 18.]\n",
      " [33. 36.]] [[ 8. 11.]\n",
      " [26. 29.]]\n"
     ]
    }
   ],
   "source": [
    "sess=tf.InteractiveSession()\n",
    "a=np.arange(1,37,dtype=np.float32).reshape(1,6,6,1)\n",
    "#b=np.ones(25).reshape(5,5,1,1)\n",
    "max=tf.nn.max_pool(a,ksize=[1,3,3,1],strides=[1,3,3,1],padding=\"VALID\")\n",
    "# 6 by 6 을 3 by 3 필터 주면 4 by 4 나온다, 여기에 스트라이드 3 by 3 주면 2by 2 가능\n",
    "\n",
    "avg=tf.nn.avg_pool(a,ksize=[1,3,3,1],strides=[1,3,3,1],padding=\"VALID\")\n",
    "\n",
    "max=max.eval()\n",
    "avg=avg.eval()\n",
    "\n",
    "print(max.reshape(2,2), avg.reshape(2,2))"
   ]
  },
  {
   "cell_type": "markdown",
   "metadata": {},
   "source": [
    "# Filter ,reshape 이랑 비슷.  n by m ,in_channel, out channel"
   ]
  },
  {
   "cell_type": "code",
   "execution_count": 191,
   "metadata": {},
   "outputs": [
    {
     "name": "stdout",
     "output_type": "stream",
     "text": [
      "Extracting MNIST_data\\train-images-idx3-ubyte.gz\n",
      "Extracting MNIST_data\\train-labels-idx1-ubyte.gz\n",
      "Extracting MNIST_data\\t10k-images-idx3-ubyte.gz\n",
      "Extracting MNIST_data\\t10k-labels-idx1-ubyte.gz\n",
      "[0. 0. 0. 0. 0. 0. 0. 1. 0. 0.]\n"
     ]
    },
    {
     "data": {
      "text/plain": [
       "<matplotlib.image.AxesImage at 0x16c000cf1d0>"
      ]
     },
     "execution_count": 191,
     "metadata": {},
     "output_type": "execute_result"
    },
    {
     "data": {
      "image/png": "[encoded data removed]",
      "text/plain": [
       "<Figure size 432x288 with 1 Axes>"
      ]
     },
     "metadata": {
      "needs_background": "light"
     },
     "output_type": "display_data"
    }
   ],
   "source": [
    "from tensorflow.examples.tutorials.mnist import input_data\n",
    "mnist=input_data.read_data_sets(\"MNIST_data\", one_hot=True)\n",
    "\n",
    "img=mnist.train.images[0].reshape(28,28)\n",
    "print(mnist.train.labels[0])\n",
    "plt.imshow(img,cmap=\"GnBu\")"
   ]
  },
  {
   "cell_type": "code",
   "execution_count": 206,
   "metadata": {},
   "outputs": [
    {
     "name": "stdout",
     "output_type": "stream",
     "text": [
      "Tensor(\"Conv2D_147:0\", shape=(1, 14, 14, 5), dtype=float32)\n",
      "(5, 14, 14, 1)\n"
     ]
    },
    {
     "data": {
      "image/png": "[encoded data removed]",
      "text/plain": [
       "<Figure size 432x288 with 5 Axes>"
      ]
     },
     "metadata": {
      "needs_background": "light"
     },
     "output_type": "display_data"
    }
   ],
   "source": [
    "sess=tf.InteractiveSession()\n",
    "\n",
    "img=img.reshape(1,28,28,1) # 몇개, n 바이 n, 채널\n",
    "filter=np.random.random((3,3,1,5))-0.5 # n 바이 n,채널, 몇개 ...///필터가 5개라 이미지 5개\n",
    "con=tf.nn.conv2d(img,filter,strides=[1,2,2,1],padding=\"SAME\")\n",
    "print(con)\n",
    "#(1, 14, 14, 5)\n",
    "\n",
    "con_img=con.eval()\n",
    "con_img=np.swapaxes(con_img,0,3)\n",
    "print(con_img.shape)\n",
    "\n",
    "for i, one_img in enumerate(con_img):\n",
    "    plt.subplot(1,5,i+1),plt.imshow(one_img.reshape(14,14),cmap=\"GnBu\")"
   ]
  },
  {
   "cell_type": "code",
   "execution_count": 225,
   "metadata": {},
   "outputs": [
    {
     "name": "stdout",
     "output_type": "stream",
     "text": [
      "Tensor(\"Conv2D_213:0\", shape=(1, 14, 14, 5), dtype=float32)\n",
      "(5, 14, 14, 1)\n",
      "Tensor(\"Conv2D_214:0\", shape=(1, 14, 14, 5), dtype=float32)\n",
      "(5, 14, 14, 1)\n",
      "Tensor(\"Conv2D_215:0\", shape=(1, 14, 14, 5), dtype=float32)\n",
      "(5, 14, 14, 1)\n",
      "Tensor(\"Conv2D_216:0\", shape=(1, 14, 14, 5), dtype=float32)\n",
      "(5, 14, 14, 1)\n",
      "Tensor(\"Conv2D_217:0\", shape=(1, 14, 14, 5), dtype=float32)\n",
      "(5, 14, 14, 1)\n",
      "Tensor(\"Conv2D_218:0\", shape=(1, 14, 14, 5), dtype=float32)\n",
      "(5, 14, 14, 1)\n",
      "Tensor(\"Conv2D_219:0\", shape=(1, 14, 14, 5), dtype=float32)\n",
      "(5, 14, 14, 1)\n",
      "Tensor(\"Conv2D_220:0\", shape=(1, 14, 14, 5), dtype=float32)\n",
      "(5, 14, 14, 1)\n",
      "Tensor(\"Conv2D_221:0\", shape=(1, 14, 14, 5), dtype=float32)\n",
      "(5, 14, 14, 1)\n",
      "Tensor(\"Conv2D_222:0\", shape=(1, 14, 14, 5), dtype=float32)\n",
      "(5, 14, 14, 1)\n"
     ]
    },
    {
     "data": {
      "image/png": "[encoded data removed]",
      "text/plain": [
       "<Figure size 432x288 with 50 Axes>"
      ]
     },
     "metadata": {
      "needs_background": "light"
     },
     "output_type": "display_data"
    }
   ],
   "source": [
    "sess=tf.InteractiveSession()\n",
    "\n",
    "for i in range(10):\n",
    "    img=mnist.train.images[i].reshape(28,28)\n",
    "\n",
    "\n",
    "    img=img.reshape(1,28,28,1) # 몇개, n 바이 n, 채널\n",
    "    filter=np.random.random((3,3,1,5))-0.5 # n 바이 n,채널, 몇개 ...///필터가 5개라 이미지 5개\n",
    "    con=tf.nn.conv2d(img,filter,strides=[1,2,2,1],padding=\"SAME\")\n",
    "    print(con)\n",
    "#(1, 14, 14, 5)\n",
    "\n",
    "    con_img=con.eval()\n",
    "    con_img=np.swapaxes(con_img,0,3)\n",
    "    print(con_img.shape)\n",
    "\n",
    "    for j, one_img in enumerate(con_img):\n",
    "        plt.subplot(10,5,i*5+j+1),plt.imshow(one_img.reshape(14,14),cmap=\"GnBu\") # 행이 다섯개씩 커지니까! \n",
    "        \n",
    "# subplot( row, column, index)"
   ]
  },
  {
   "cell_type": "code",
   "execution_count": 226,
   "metadata": {},
   "outputs": [
    {
     "name": "stdout",
     "output_type": "stream",
     "text": [
      "Extracting MNIST_data/train-images-idx3-ubyte.gz\n",
      "Extracting MNIST_data/train-labels-idx1-ubyte.gz\n",
      "Extracting MNIST_data/t10k-images-idx3-ubyte.gz\n",
      "Extracting MNIST_data/t10k-labels-idx1-ubyte.gz\n"
     ]
    },
    {
     "name": "stderr",
     "output_type": "stream",
     "text": [
      "W0719 17:41:50.146776  8368 deprecation.py:323] From <ipython-input-226-cab0a8892ef3>:41: softmax_cross_entropy_with_logits (from tensorflow.python.ops.nn_ops) is deprecated and will be removed in a future version.\n",
      "Instructions for updating:\n",
      "\n",
      "Future major versions of TensorFlow will allow gradients to flow\n",
      "into the labels input on backprop by default.\n",
      "\n",
      "See `tf.nn.softmax_cross_entropy_with_logits_v2`.\n",
      "\n"
     ]
    },
    {
     "name": "stdout",
     "output_type": "stream",
     "text": [
      "Epoch: 0001 cost = 0.263380494\n",
      "Epoch: 0002 cost = 0.085458098\n",
      "Epoch: 0003 cost = 0.062555175\n",
      "Epoch: 0004 cost = 0.049968619\n",
      "Epoch: 0005 cost = 0.041135965\n",
      "Epoch: 0006 cost = 0.035825281\n",
      "Epoch: 0007 cost = 0.028825223\n",
      "Epoch: 0008 cost = 0.025420396\n",
      "Epoch: 0009 cost = 0.020903260\n",
      "Epoch: 0010 cost = 0.017724756\n",
      "Epoch: 0011 cost = 0.015470881\n",
      "Epoch: 0012 cost = 0.013585315\n",
      "Epoch: 0013 cost = 0.010529014\n",
      "Epoch: 0014 cost = 0.009999726\n",
      "Epoch: 0015 cost = 0.009535036\n",
      "Learning Finished!\n",
      "Accuracy: 0.9869\n"
     ]
    }
   ],
   "source": [
    "#from tensorflow.keras.datasets import mnist\n",
    "#(x_train, y_train),(x_test,y_test) = mnist.load_data()\n",
    "from tensorflow.examples.tutorials.mnist import input_data\n",
    "\n",
    "mnist = input_data.read_data_sets(\"MNIST_data/\", one_hot=True)\n",
    "#batch_xs, bat_ys = mnist.train.next_batch(100)\n",
    "#input placeholders\n",
    "X = tf.placeholder(tf.float32, [None, 784])\n",
    "X_img = tf.reshape(X, [-1, 28, 28, 1])\n",
    "\n",
    "Y = tf.placeholder(tf.float32, [None, 10])\n",
    "\n",
    "#Conv L1 ImgIn shape=(?, 28, 28, 1)\n",
    "# Filter W1 size=[3,3,1,6]\n",
    "W1 = tf.Variable(tf.random_normal([3,3,1, 32],stddev=0.03))\n",
    "\n",
    "#L1\n",
    "L1 = tf.nn.conv2d(X_img, W1, strides=[1,1,1,1], padding='SAME')\n",
    "L1_img = tf.nn.relu(L1)\n",
    "\n",
    "#Max pooling MP1 size \n",
    "MP1 = tf.nn.max_pool(L1_img, ksize=[1,2,2,1], strides=[1,2,2,1], padding='SAME')\n",
    "\n",
    "#Conv L2 ImgIn shape\n",
    "#Filter W2 size\n",
    "W2 = tf.Variable(tf.random_normal([3,3,32, 64],stddev=0.03))\n",
    "\n",
    "#L2\n",
    "L2 = tf.nn.conv2d(MP1, W2, strides=[1,1,1,1], padding='SAME')\n",
    "L2_img = tf.nn.relu(L2)\n",
    "\n",
    "#MP2\n",
    "MP2 = tf.nn.max_pool(L2_img, ksize=[1,2,2,1], strides=[1,2,2,1], padding='SAME')\n",
    "MP2 = tf.reshape(MP2, [-1, 7 * 7 * 64])\n",
    "\n",
    "W3=tf.Variable(tf.random_normal([7*7*64,10]))\n",
    "b = tf.Variable(tf.random_normal([10]))\n",
    "#몇몇 곳에서는 prediction 혹은 result라고 하기도 한다. hypothesis는 가설로 번역될 수 있고, 예상되는 값이라는 의미이다.\n",
    "hypothesis = tf.matmul(MP2,W3)+b\n",
    "learning_rate = 0.001\n",
    "cost = tf.reduce_mean(tf.nn.softmax_cross_entropy_with_logits(logits=hypothesis, labels=Y))\n",
    "optimizer = tf.train.AdamOptimizer(learning_rate=learning_rate).minimize(cost)\n",
    "\n",
    "#Training and Evaluation\n",
    "#initialize\n",
    "sess = tf.Session()\n",
    "sess.run(tf.global_variables_initializer())\n",
    "\n",
    "training_epochs = 15\n",
    "batch_size = 100\n",
    "\n",
    "for epoch in range(training_epochs):\n",
    "    average_cost = 0\n",
    "    total_batch = int(mnist.train.num_examples / batch_size)\n",
    "    for i in range(total_batch):\n",
    "        batch_xs, batch_ys = mnist.train.next_batch(batch_size)\n",
    "        feed_dict = {X: batch_xs, Y: batch_ys}\n",
    "        c, _, = sess.run ([cost, optimizer], feed_dict=feed_dict)\n",
    "        average_cost += c /total_batch\n",
    "    print('Epoch:', \"%04d\" % (epoch + 1), 'cost =', '{:.9f}'.format(average_cost))\n",
    "                \n",
    "print('Learning Finished!')\n",
    "                \n",
    "correct_prediction = tf.equal(tf.argmax(hypothesis, 1), tf.argmax(Y,1))\n",
    "accuracy = tf.reduce_mean(tf.cast(correct_prediction, tf.float32))\n",
    "print('Accuracy:', sess.run(accuracy, feed_dict={X:mnist.test.images, Y:mnist.test.labels}))"
   ]
  },
  {
   "cell_type": "code",
   "execution_count": null,
   "metadata": {},
   "outputs": [],
   "source": []
  }
 ],
 "metadata": {
  "kernelspec": {
   "display_name": "Python 3",
   "language": "python",
   "name": "python3"
  },
  "language_info": {
   "codemirror_mode": {
    "name": "ipython",
    "version": 3
   },
   "file_extension": ".py",
   "mimetype": "text/x-python",
   "name": "python",
   "nbconvert_exporter": "python",
   "pygments_lexer": "ipython3",
   "version": "3.7.3"
  }
 },
 "nbformat": 4,
 "nbformat_minor": 2
}
