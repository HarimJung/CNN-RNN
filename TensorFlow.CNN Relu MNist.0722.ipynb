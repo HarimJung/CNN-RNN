{
 "cells": [
  {
   "cell_type": "code",
   "execution_count": 1,
   "metadata": {},
   "outputs": [
    {
     "name": "stderr",
     "output_type": "stream",
     "text": [
      "C:\\Users\\Affinity\\Anaconda3\\lib\\site-packages\\dask\\config.py:168: YAMLLoadWarning: calling yaml.load() without Loader=... is deprecated, as the default Loader is unsafe. Please read https://msg.pyyaml.org/load for full details.\n",
      "  data = yaml.load(f.read()) or {}\n"
     ]
    }
   ],
   "source": [
    "import tensorflow as tf\n",
    "import matplotlib.pyplot as plt\n",
    "import numpy as np\n",
    "import pandas as pd\n",
    "from tensorflow.examples.tutorials.mnist import input_data"
   ]
  },
  {
   "cell_type": "code",
   "execution_count": 2,
   "metadata": {},
   "outputs": [
    {
     "name": "stderr",
     "output_type": "stream",
     "text": [
      "WARNING: Logging before flag parsing goes to stderr.\n",
      "W0722 14:27:13.084015  6056 deprecation.py:323] From <ipython-input-2-e95c973b5acc>:5: read_data_sets (from tensorflow.contrib.learn.python.learn.datasets.mnist) is deprecated and will be removed in a future version.\n",
      "Instructions for updating:\n",
      "Please use alternatives such as official/mnist/dataset.py from tensorflow/models.\n",
      "W0722 14:27:13.085012  6056 deprecation.py:323] From C:\\Users\\Affinity\\Anaconda3\\lib\\site-packages\\tensorflow\\contrib\\learn\\python\\learn\\datasets\\mnist.py:260: maybe_download (from tensorflow.contrib.learn.python.learn.datasets.base) is deprecated and will be removed in a future version.\n",
      "Instructions for updating:\n",
      "Please write your own downloading logic.\n",
      "W0722 14:27:13.086009  6056 deprecation.py:323] From C:\\Users\\Affinity\\Anaconda3\\lib\\site-packages\\tensorflow\\contrib\\learn\\python\\learn\\datasets\\mnist.py:262: extract_images (from tensorflow.contrib.learn.python.learn.datasets.mnist) is deprecated and will be removed in a future version.\n",
      "Instructions for updating:\n",
      "Please use tf.data to implement this functionality.\n"
     ]
    },
    {
     "name": "stdout",
     "output_type": "stream",
     "text": [
      "Extracting MNIST_data/train-images-idx3-ubyte.gz\n"
     ]
    },
    {
     "name": "stderr",
     "output_type": "stream",
     "text": [
      "W0722 14:27:13.318701  6056 deprecation.py:323] From C:\\Users\\Affinity\\Anaconda3\\lib\\site-packages\\tensorflow\\contrib\\learn\\python\\learn\\datasets\\mnist.py:267: extract_labels (from tensorflow.contrib.learn.python.learn.datasets.mnist) is deprecated and will be removed in a future version.\n",
      "Instructions for updating:\n",
      "Please use tf.data to implement this functionality.\n",
      "W0722 14:27:13.323689  6056 deprecation.py:323] From C:\\Users\\Affinity\\Anaconda3\\lib\\site-packages\\tensorflow\\contrib\\learn\\python\\learn\\datasets\\mnist.py:110: dense_to_one_hot (from tensorflow.contrib.learn.python.learn.datasets.mnist) is deprecated and will be removed in a future version.\n",
      "Instructions for updating:\n",
      "Please use tf.one_hot on tensors.\n",
      "W0722 14:27:13.374306  6056 deprecation.py:323] From C:\\Users\\Affinity\\Anaconda3\\lib\\site-packages\\tensorflow\\contrib\\learn\\python\\learn\\datasets\\mnist.py:290: DataSet.__init__ (from tensorflow.contrib.learn.python.learn.datasets.mnist) is deprecated and will be removed in a future version.\n",
      "Instructions for updating:\n",
      "Please use alternatives such as official/mnist/dataset.py from tensorflow/models.\n"
     ]
    },
    {
     "name": "stdout",
     "output_type": "stream",
     "text": [
      "Extracting MNIST_data/train-labels-idx1-ubyte.gz\n",
      "Extracting MNIST_data/t10k-images-idx3-ubyte.gz\n",
      "Extracting MNIST_data/t10k-labels-idx1-ubyte.gz\n"
     ]
    }
   ],
   "source": [
    "#from tensorflow.keras.datasets import mnist\n",
    "#(x_train, y_train),(x_test,y_test) = mnist.load_data()\n",
    "from tensorflow.examples.tutorials.mnist import input_data\n",
    "\n",
    "mnist = input_data.read_data_sets(\"MNIST_data/\", one_hot=True)\n",
    "#batch_xs, bat_ys = mnist.train.next_batch(100)\n",
    "\n",
    "#input placeholders\n",
    "# 자리만 확보하고 나중에 데이터를 feed_dict형태로 넣게된다.\n",
    "\n",
    "X = tf.placeholder(tf.float32, [None, 784])\n",
    "X_img = tf.reshape(X, [-1, 28, 28, 1])\n",
    "# -1,28,28,1 none으로 지정되어서 -1로 감.\n",
    "\n",
    "Y = tf.placeholder(tf.float32, [None, 10])\n",
    "\n",
    "\n",
    "#Conv L1 ImgIn shape=(?, 28, 28, 1)\n",
    "# Filter W1 size=[3,3,1,6] \n",
    "# 필터의 형태. 3 by 3 글고 32 개의 필터.\n",
    "W1 = tf.Variable(tf.random_normal([3,3,1, 32],stddev=0.03))\n",
    "\n",
    "#L1\n",
    "L1 = tf.nn.conv2d(X_img, W1, strides=[1,1,1,1], padding='SAME')\n",
    "L1_img = tf.nn.relu(L1)\n",
    "# activatin function= 하나의 출력으로 내놓는다.\n",
    "# nvanishing gradient 를 방지. back pro에서. \n",
    "# relu= X 값이 커지는 것 을 방지. \n",
    "\n",
    "#Max pooling MP1 size \n",
    "MP1 = tf.nn.max_pool(L1_img, ksize=[1,2,2,1], strides=[1,2,2,1], padding='SAME')\n",
    "#사이즈를 반값으로 줄여준다.\n",
    "\n",
    "\n",
    "#Conv L2 ImgIn shape\n",
    "#Filter W2 size\n",
    "W2 = tf.Variable(tf.random_normal([3,3,32, 64],stddev=0.03))\n",
    "\n",
    "#L2\n",
    "L2 = tf.nn.conv2d(MP1, W2, strides=[1,1,1,1], padding='SAME')\n",
    "L2_img = tf.nn.relu(L2)\n",
    "\n",
    "#MP2\n",
    "MP2 = tf.nn.max_pool(L2_img, ksize=[1,2,2,1], strides=[1,2,2,1], padding='SAME')\n",
    "MP2 = tf.reshape(MP2, [-1, 7 * 7 * 64])\n",
    "# 행렬값 사이즈  none by 7*7*64\n",
    "\n",
    "W3=tf.Variable(tf.random_normal([7*7*64,10]))\n",
    "b = tf.Variable(tf.random_normal([10]))"
   ]
  },
  {
   "cell_type": "code",
   "execution_count": 3,
   "metadata": {},
   "outputs": [
    {
     "name": "stderr",
     "output_type": "stream",
     "text": [
      "W0722 14:27:20.169393  6056 deprecation.py:323] From <ipython-input-3-5dc4783e915a>:3: softmax_cross_entropy_with_logits (from tensorflow.python.ops.nn_ops) is deprecated and will be removed in a future version.\n",
      "Instructions for updating:\n",
      "\n",
      "Future major versions of TensorFlow will allow gradients to flow\n",
      "into the labels input on backprop by default.\n",
      "\n",
      "See `tf.nn.softmax_cross_entropy_with_logits_v2`.\n",
      "\n"
     ]
    },
    {
     "name": "stdout",
     "output_type": "stream",
     "text": [
      "Epoch: 0001 cost = 0.275345894\n",
      "Epoch: 0002 cost = 0.080431469\n",
      "Epoch: 0003 cost = 0.058817459\n",
      "Epoch: 0004 cost = 0.044629121\n",
      "Epoch: 0005 cost = 0.037268908\n",
      "Epoch: 0006 cost = 0.031892917\n",
      "Epoch: 0007 cost = 0.028302175\n",
      "Epoch: 0008 cost = 0.023647457\n",
      "Epoch: 0009 cost = 0.020041391\n",
      "Epoch: 0010 cost = 0.017056962\n",
      "Epoch: 0011 cost = 0.015833107\n",
      "Epoch: 0012 cost = 0.013256795\n",
      "Epoch: 0013 cost = 0.012894203\n",
      "Epoch: 0014 cost = 0.009607322\n",
      "Epoch: 0015 cost = 0.007704942\n",
      "Learning Finished!\n",
      "Accuracy: 0.9873\n"
     ]
    }
   ],
   "source": [
    "hypothesis = tf.matmul(MP2,W3)+b\n",
    "# 결론, 1 by 10 나옴/ none 은 다 고려된 상태.\n",
    "\n",
    "learning_rate = 0.001\n",
    "# 나온 결과를 logit에 넣고 코스트 구한다.\n",
    "\n",
    "cost = tf.reduce_mean(tf.nn.softmax_cross_entropy_with_logits(logits=hypothesis, labels=Y))\n",
    "#soft_max 는 확률값. 다 합치면 1 \n",
    "\n",
    "optimizer = tf.train.AdamOptimizer(learning_rate=learning_rate).minimize(cost)\n",
    "\n",
    "#Training and Evaluation\n",
    "#initialize\n",
    "sess = tf.Session()\n",
    "sess.run(tf.global_variables_initializer())\n",
    "\n",
    "training_epochs = 15\n",
    "batch_size = 100\n",
    "\n",
    "for epoch in range(training_epochs):\n",
    "    average_cost = 0\n",
    "    total_batch = int(mnist.train.num_examples / batch_size)\n",
    "    for i in range(total_batch):\n",
    "        batch_xs, batch_ys = mnist.train.next_batch(batch_size)\n",
    "        feed_dict = {X: batch_xs, Y: batch_ys}\n",
    "        c, _, = sess.run ([cost, optimizer], feed_dict=feed_dict)\n",
    "        average_cost += c /total_batch\n",
    "    print('Epoch:', \"%04d\" % (epoch + 1), 'cost =', '{:.9f}'.format(average_cost))\n",
    "                \n",
    "print('Learning Finished!')\n",
    "                \n",
    "correct_prediction = tf.equal(tf.argmax(hypothesis, 1), tf.argmax(Y,1))\n",
    "accuracy = tf.reduce_mean(tf.cast(correct_prediction, tf.float32))\n",
    "print('Accuracy:', sess.run(accuracy, feed_dict={X:mnist.test.images, Y:mnist.test.labels}))"
   ]
  },
  {
   "cell_type": "code",
   "execution_count": 8,
   "metadata": {},
   "outputs": [
    {
     "name": "stdout",
     "output_type": "stream",
     "text": [
      "Extracting MNIST_data/train-images-idx3-ubyte.gz\n",
      "Extracting MNIST_data/train-labels-idx1-ubyte.gz\n",
      "Extracting MNIST_data/t10k-images-idx3-ubyte.gz\n",
      "Extracting MNIST_data/t10k-labels-idx1-ubyte.gz\n",
      "(?, 14, 14, 32)\n",
      "(?, 7, 7, 64)\n",
      "(?, 3136)\n"
     ]
    }
   ],
   "source": [
    "\n",
    "from tensorflow.examples.tutorials.mnist import input_data\n",
    "\n",
    "mnist = input_data.read_data_sets(\"MNIST_data/\", one_hot=True)\n",
    "\n",
    "X = tf.placeholder(tf.float32, [None, 784])\n",
    "X_img = tf.reshape(X, [-1, 28, 28, 1])\n",
    "Y = tf.placeholder(tf.float32, [None, 10])\n",
    "\n",
    "\n",
    "W1 = tf.Variable(tf.random_normal([3,3,1, 32],stddev=0.03))\n",
    "L1 = tf.nn.conv2d(X_img, W1, strides=[1,1,1,1], padding='SAME')\n",
    "L1_img = tf.nn.relu(L1)\n",
    "MP1 = tf.nn.max_pool(L1_img, ksize=[1,2,2,1], strides=[1,2,2,1], padding='SAME')\n",
    "\n",
    "print(MP1.shape)\n",
    "\n",
    "W2 = tf.Variable(tf.random_normal([3,3,32, 64],stddev=0.03))\n",
    "L2 = tf.nn.conv2d(MP1, W2, strides=[1,1,1,1], padding='SAME')\n",
    "L2_img = tf.nn.relu(L2)\n",
    "MP2 = tf.nn.max_pool(L2_img, ksize=[1,2,2,1], strides=[1,2,2,1], padding='SAME')\n",
    "\n",
    "print(MP2.shape)\n",
    "\n",
    "MP2 = tf.reshape(MP2, [-1, 7 * 7 * 64])\n",
    "print(MP2.shape)\n",
    "\n",
    "\n",
    "W3=tf.Variable(tf.random_normal([7*7*64,10]))\n",
    "b = tf.Variable(tf.random_normal([10]))"
   ]
  },
  {
   "cell_type": "code",
   "execution_count": null,
   "metadata": {},
   "outputs": [],
   "source": []
  }
 ],
 "metadata": {
  "kernelspec": {
   "display_name": "Python 3",
   "language": "python",
   "name": "python3"
  },
  "language_info": {
   "codemirror_mode": {
    "name": "ipython",
    "version": 3
   },
   "file_extension": ".py",
   "mimetype": "text/x-python",
   "name": "python",
   "nbconvert_exporter": "python",
   "pygments_lexer": "ipython3",
   "version": "3.7.3"
  }
 },
 "nbformat": 4,
 "nbformat_minor": 2
}
